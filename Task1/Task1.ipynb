{
 "cells": [
  {
   "cell_type": "code",
   "execution_count": null,
   "id": "a5b974ca",
   "metadata": {},
   "outputs": [],
   "source": [
    "\"\"\"\n",
    "1. Ймовірність того, що при перевірці деталь виявиться стандартною, дорівнює 0,6. Перевірці підлягають 3 деталі.\n",
    "Побудувати закон розподілу системи двох дискретних випадкових величин X - появи числа бракованих деталей і Y - появи\n",
    "числа стандартних деталей. Обчислити коефіцієнт кореляції r.\n",
    "\"\"\""
   ]
  },
  {
   "cell_type": "code",
   "execution_count": 1,
   "id": "b0f1a6b7",
   "metadata": {},
   "outputs": [],
   "source": [
    "import itertools\n",
    "import numpy as np"
   ]
  },
  {
   "cell_type": "code",
   "execution_count": 2,
   "id": "52aeb345",
   "metadata": {},
   "outputs": [],
   "source": [
    "# Число деталей, яким підлягає перевірка\n",
    "n = 3\n",
    "# Імовірність того, що деталь виявиться стандартною\n",
    "p = 0.6"
   ]
  },
  {
   "cell_type": "code",
   "execution_count": 3,
   "id": "8c1ae977",
   "metadata": {},
   "outputs": [],
   "source": [
    "# Можливі значення випадкової величини X – число бракованих деталей\n",
    "x_values = range(0, n+1)"
   ]
  },
  {
   "cell_type": "code",
   "execution_count": 4,
   "id": "5d6e45b1",
   "metadata": {},
   "outputs": [],
   "source": [
    "# Можливі значення випадкової величини Y – число стандартних деталей\n",
    "y_values = range(0, n+1)"
   ]
  },
  {
   "cell_type": "code",
   "execution_count": 9,
   "id": "74495c56",
   "metadata": {},
   "outputs": [
    {
     "name": "stdout",
     "output_type": "stream",
     "text": [
      "[(0, 0), (0, 1), (0, 2), (0, 3), (1, 0), (1, 1), (1, 2), (1, 3), (2, 0), (2, 1), (2, 2), (2, 3), (3, 0), (3, 1), (3, 2), (3, 3)]\n"
     ]
    }
   ],
   "source": [
    "# Список усіх можливих комбінацій значень X та Y\n",
    "xy_combinations = list(itertools.product(x_values, y_values))\n",
    "print(xy_combinations)"
   ]
  },
  {
   "cell_type": "code",
   "execution_count": 6,
   "id": "b271ae3a",
   "metadata": {},
   "outputs": [],
   "source": [
    "# Словник для збереження значень спільної ймовірності P(X=x, Y=y)\n",
    "joint_distribution = {}"
   ]
  },
  {
   "cell_type": "code",
   "execution_count": 7,
   "id": "11f3fbdd",
   "metadata": {},
   "outputs": [],
   "source": [
    "for x, y in xy_combinations:\n",
    "    # Обчислення ймовірності події (X=x, Y=y)\n",
    "    joint_probability = (p ** y) * ((1 - p) ** (n - y)) * (np.math.comb(n, x) * (p ** x) * ((1 - p) ** (n - x)))\n",
    "    joint_distribution[(x, y)] = joint_probability"
   ]
  },
  {
   "cell_type": "code",
   "execution_count": 8,
   "id": "7aaf7f57",
   "metadata": {},
   "outputs": [
    {
     "name": "stdout",
     "output_type": "stream",
     "text": [
      "Спільний розподіл:\n",
      "0.004\t0.018\t0.028\t0.014\t\n",
      "0.006\t0.028\t0.041\t0.021\t\n",
      "0.009\t0.041\t0.062\t0.031\t\n",
      "0.014\t0.062\t0.093\t0.047\t\n"
     ]
    }
   ],
   "source": [
    "# Побудова таблиці спільного розподілу\n",
    "print(\"Спільний розподіл:\")\n",
    "for y in y_values:\n",
    "    row = \"\"\n",
    "    for x in x_values:\n",
    "        row += f\"{joint_distribution[(x, y)]:.3f}\\t\"\n",
    "    print(row)"
   ]
  },
  {
   "cell_type": "code",
   "execution_count": 15,
   "id": "d2fb3d08",
   "metadata": {},
   "outputs": [
    {
     "name": "stdout",
     "output_type": "stream",
     "text": [
      "0.9359999999999999\n",
      "1.032\n",
      "0.4279910399999999\n",
      "0.8732570755510659\n",
      "1.0196884229998886\n"
     ]
    }
   ],
   "source": [
    "# Обчислення коефіцієнта кореляції\n",
    "x_mean = sum(x * joint_distribution[(x, y)] for x, y in xy_combinations)\n",
    "print(x_mean)\n",
    "y_mean = sum(y * joint_distribution[(x, y)] for x, y in xy_combinations)\n",
    "print(y_mean)\n",
    "covariance = sum((x - x_mean) * (y - y_mean) * joint_distribution[(x, y)] for x, y in xy_combinations)\n",
    "print(covariance)\n",
    "x_std = np.sqrt(sum((x - x_mean) ** 2 * joint_distribution[(x, y)] for x, y in xy_combinations))\n",
    "print(x_std)\n",
    "y_std = np.sqrt(sum((y - y_mean) ** 2 * joint_distribution[(x, y)] for x, y in xy_combinations))\n",
    "print(y_std)\n",
    "correlation_coefficient = covariance / (x_std * y_std)"
   ]
  },
  {
   "cell_type": "code",
   "execution_count": 13,
   "id": "4236e5b1",
   "metadata": {},
   "outputs": [
    {
     "name": "stdout",
     "output_type": "stream",
     "text": [
      "Коефіцієнт кореляції: 0.481\n"
     ]
    }
   ],
   "source": [
    "print(f\"Коефіцієнт кореляції: {correlation_coefficient:.3f}\")"
   ]
  },
  {
   "cell_type": "code",
   "execution_count": null,
   "id": "e84a3008",
   "metadata": {},
   "outputs": [],
   "source": []
  }
 ],
 "metadata": {
  "kernelspec": {
   "display_name": "Python 3",
   "language": "python",
   "name": "python3"
  },
  "language_info": {
   "codemirror_mode": {
    "name": "ipython",
    "version": 3
   },
   "file_extension": ".py",
   "mimetype": "text/x-python",
   "name": "python",
   "nbconvert_exporter": "python",
   "pygments_lexer": "ipython3",
   "version": "3.8.10"
  }
 },
 "nbformat": 4,
 "nbformat_minor": 5
}
