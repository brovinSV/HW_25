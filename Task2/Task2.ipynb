{
 "cells": [
  {
   "cell_type": "code",
   "execution_count": null,
   "id": "8d9c3f7c",
   "metadata": {},
   "outputs": [],
   "source": [
    "\"\"\"\n",
    "2. Розглянемо дві різні умовні акції X і Y. Для кожної з них за допомогою статичних досліджень були розраховані відносні частоти\n",
    "очікуваних прибутків залежно від п'яти станів економічного середовища: значне піднесення, незначне піднесення, стагнація, незначний\n",
    "спад, значний спад. Обчислити очікувану норму прибутку по кожній з акцій. Оцінити ступінь ризику обох акцій за допомогою середньоквадратичного\n",
    "відхилиння. Проаналізувати наявність зв'язку між акціями X та Y за допомогою коефіцієнтів коваріації та кореляції.\n",
    "\"\"\""
   ]
  },
  {
   "cell_type": "code",
   "execution_count": 1,
   "id": "28fb7912",
   "metadata": {},
   "outputs": [],
   "source": [
    "import numpy as np\n",
    "\n",
    "# задані частоти очікуваного прибутку для акцій X та Y\n",
    "p_x = np.array([0.1, 0.3, 0.2, 0.3, 0.1])\n",
    "p_y = np.array([0.1, 0.3, 0.2, 0.3, 0.1])\n",
    "\n",
    "# задані прогнозовані норми прибутку для акцій X та Y у відсотках\n",
    "profits_x = np.array([10, 5, 2, 1, -5])\n",
    "profits_y = np.array([20, 10, 2, -2, -8])"
   ]
  },
  {
   "cell_type": "code",
   "execution_count": 2,
   "id": "2470bf64",
   "metadata": {},
   "outputs": [
    {
     "name": "stdout",
     "output_type": "stream",
     "text": [
      "Очікувана норма доходу для акції X: 0.03%\n",
      "Очікувана норма доходу для акції Y: 0.04%\n"
     ]
    }
   ],
   "source": [
    "# розрахунок очікуваних норм доходу для акцій X та Y\n",
    "e_x = np.dot(p_x, profits_x) / 100\n",
    "e_y = np.dot(p_y, profits_y) / 100\n",
    "\n",
    "print(\"Очікувана норма доходу для акції X: {:.2f}%\".format(e_x))\n",
    "print(\"Очікувана норма доходу для акції Y: {:.2f}%\".format(e_y))"
   ]
  },
  {
   "cell_type": "code",
   "execution_count": 3,
   "id": "4b5cd180",
   "metadata": {},
   "outputs": [
    {
     "name": "stdout",
     "output_type": "stream",
     "text": [
      "Середньоквадратичне відхилиння для акції X: 0.04%\n",
      "Середньоквадратичне відхилиння для акції Y: 0.08%\n"
     ]
    }
   ],
   "source": [
    "# ступінь ризику обох акцій\n",
    "std_x = np.sqrt(np.dot(p_x, np.power(profits_x/100 - e_x, 2)))\n",
    "std_y = np.sqrt(np.dot(p_y, np.power(profits_y/100 - e_y, 2)))\n",
    "\n",
    "print(\"Середньоквадратичне відхилиння для акції X: {:.2f}%\".format(std_x))\n",
    "print(\"Середньоквадратичне відхилиння для акції Y: {:.2f}%\".format(std_y))"
   ]
  },
  {
   "cell_type": "code",
   "execution_count": 4,
   "id": "33692691",
   "metadata": {},
   "outputs": [
    {
     "name": "stdout",
     "output_type": "stream",
     "text": [
      "Коефіцієнт коваріації між акціями X та Y: 0.0004\n",
      "Коефіцієнт кореляції між акціями X та Y: 0.1468\n"
     ]
    }
   ],
   "source": [
    "# розрахунок коефіцієнта коваріації та кореляції між акціями X та Y\n",
    "cov_xy = np.dot(np.multiply(profits_x/100 - e_x, profits_y/100 - e_y), np.multiply(p_x, p_y))\n",
    "corr_xy = cov_xy / (std_x * std_y)\n",
    "\n",
    "print(\"Коефіцієнт коваріації між акціями X та Y: {:.4f}\".format(cov_xy))\n",
    "print(\"Коефіцієнт кореляції між акціями X та Y: {:.4f}\".format(corr_xy))"
   ]
  },
  {
   "cell_type": "code",
   "execution_count": null,
   "id": "37e0ea73",
   "metadata": {},
   "outputs": [],
   "source": []
  }
 ],
 "metadata": {
  "kernelspec": {
   "display_name": "Python 3",
   "language": "python",
   "name": "python3"
  },
  "language_info": {
   "codemirror_mode": {
    "name": "ipython",
    "version": 3
   },
   "file_extension": ".py",
   "mimetype": "text/x-python",
   "name": "python",
   "nbconvert_exporter": "python",
   "pygments_lexer": "ipython3",
   "version": "3.8.10"
  }
 },
 "nbformat": 4,
 "nbformat_minor": 5
}
